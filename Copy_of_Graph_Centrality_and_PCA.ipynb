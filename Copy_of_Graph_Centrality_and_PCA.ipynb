{
  "nbformat": 4,
  "nbformat_minor": 0,
  "metadata": {
    "colab": {
      "name": "Copy of Graph_Centrality and PCA.ipynb",
      "provenance": [],
      "collapsed_sections": []
    },
    "kernelspec": {
      "name": "python3",
      "display_name": "Python 3"
    },
    "language_info": {
      "name": "python"
    }
  },
  "cells": [
    {
      "cell_type": "code",
      "execution_count": null,
      "metadata": {
        "id": "2TNdxkSVHDBj"
      },
      "outputs": [],
      "source": [
        "import pandas as pd\n",
        "import pickle"
      ]
    },
    {
      "cell_type": "code",
      "source": [
        "from google.colab import drive\n",
        "drive.mount('/content/drive')"
      ],
      "metadata": {
        "colab": {
          "base_uri": "https://localhost:8080/"
        },
        "id": "Rx4d72aNM4Bp",
        "outputId": "36301f38-93c2-46f0-d695-2f927753fa72"
      },
      "execution_count": null,
      "outputs": [
        {
          "output_type": "stream",
          "name": "stdout",
          "text": [
            "Drive already mounted at /content/drive; to attempt to forcibly remount, call drive.mount(\"/content/drive\", force_remount=True).\n"
          ]
        }
      ]
    },
    {
      "cell_type": "code",
      "source": [
        "import os\n",
        "os.chdir('/content/drive/My Drive/Temp/')"
      ],
      "metadata": {
        "id": "6KpvQ5beINb1"
      },
      "execution_count": null,
      "outputs": []
    },
    {
      "cell_type": "code",
      "source": [
        "ls"
      ],
      "metadata": {
        "colab": {
          "base_uri": "https://localhost:8080/"
        },
        "id": "rmk4Yol9NLl4",
        "outputId": "5c2e24fe-dfef-444c-af20-6f6017f4abd6"
      },
      "execution_count": null,
      "outputs": [
        {
          "output_type": "stream",
          "name": "stdout",
          "text": [
            "'Copy of 1995COCI2020.pkl'\n"
          ]
        }
      ]
    },
    {
      "cell_type": "code",
      "source": [
        "df=pd.read_pickle(\"Copy of 1995COCI2020.pkl\")"
      ],
      "metadata": {
        "id": "-O6xQ_r0IJvn"
      },
      "execution_count": null,
      "outputs": []
    },
    {
      "cell_type": "code",
      "source": [
        "df"
      ],
      "metadata": {
        "colab": {
          "base_uri": "https://localhost:8080/",
          "height": 424
        },
        "id": "RdC6Aqw3Iqhr",
        "outputId": "8e2e55ec-14ae-4147-b847-507f395bb929"
      },
      "execution_count": null,
      "outputs": [
        {
          "output_type": "execute_result",
          "data": {
            "text/plain": [
              "                               citing                         cited  \\\n",
              "212724      10.1007/s11187-012-9460-x     10.1007/s10490-010-9200-1   \n",
              "212294      10.1007/s11365-016-0382-y     10.1007/s10490-010-9200-1   \n",
              "217112      10.1007/s11365-017-0457-4     10.1007/s10490-010-9200-1   \n",
              "100891            10.1017/jmo.2017.20     10.1007/s10490-010-9200-1   \n",
              "77775               10.1002/cjas.1352     10.1007/s10490-010-9200-1   \n",
              "...                               ...                           ...   \n",
              "273338    10.1016/j.jtice.2019.08.008     10.1016/j.aei.2018.02.005   \n",
              "35576       10.1016/j.jvb.2020.103459    10.1007/s10869-020-09687-3   \n",
              "55271    10.1016/j.ajogmf.2020.100201    10.1007/s40199-020-00332-1   \n",
              "99868    10.1016/j.envpol.2020.115501     10.1016/j.cej.2020.125128   \n",
              "120178  10.1016/j.jclepro.2019.119736  10.1016/j.wasman.2019.03.050   \n",
              "\n",
              "                                             Title_citing  \\\n",
              "212724  Disaggregating entrepreneurial orientation: th...   \n",
              "212294  Environmental uncertainty, prospector strategy...   \n",
              "217112  Dimensional effects of Korean SME’s entreprene...   \n",
              "100891  Dynamic capabilities and organizational perfor...   \n",
              "77775   How absorptive capacity moderates the value of...   \n",
              "...                                                   ...   \n",
              "273338  Safety integrity level analysis of fluid catal...   \n",
              "35576   A meta-analysis of autonomous and controlled f...   \n",
              "55271   Retracted articles in the obstetrics literatur...   \n",
              "99868    Waste-to-energy nexus: A sustainable development   \n",
              "120178  The environmental impacts of preparation for r...   \n",
              "\n",
              "                                             Venue_citing  \\\n",
              "212724                           Small Business Economics   \n",
              "212294  International Entrepreneurship and Management ...   \n",
              "217112  International Entrepreneurship and Management ...   \n",
              "100891               Journal of Management & Organization   \n",
              "77775   Canadian Journal of Administrative Sciences / ...   \n",
              "...                                                   ...   \n",
              "273338  Journal of the Taiwan Institute of Chemical En...   \n",
              "35576                      Journal of Vocational Behavior   \n",
              "55271     American Journal of Obstetrics & Gynecology MFM   \n",
              "99868                             Environmental Pollution   \n",
              "120178                      Journal of Cleaner Production   \n",
              "\n",
              "                                              Title_cited  \\\n",
              "212724  Entrepreneurial orientation and SME performanc...   \n",
              "212294  Entrepreneurial orientation and SME performanc...   \n",
              "217112  Entrepreneurial orientation and SME performanc...   \n",
              "100891  Entrepreneurial orientation and SME performanc...   \n",
              "77775   Entrepreneurial orientation and SME performanc...   \n",
              "...                                                   ...   \n",
              "273338  Topological mapping and assessment of multiple...   \n",
              "35576   How robust is our cumulative knowledge on turn...   \n",
              "55271   A review of the current concerns about miscond...   \n",
              "99868   Scientometric analysis and scientific trends o...   \n",
              "120178  Resource and environmental impacts of using se...   \n",
              "\n",
              "                                    Venue_cited  \n",
              "212724       Asia Pacific Journal of Management  \n",
              "212294       Asia Pacific Journal of Management  \n",
              "217112       Asia Pacific Journal of Management  \n",
              "100891       Asia Pacific Journal of Management  \n",
              "77775        Asia Pacific Journal of Management  \n",
              "...                                         ...  \n",
              "273338         Advanced Engineering Informatics  \n",
              "35576        Journal of Business and Psychology  \n",
              "55271   DARU Journal of Pharmaceutical Sciences  \n",
              "99868              Chemical Engineering Journal  \n",
              "120178                         Waste Management  \n",
              "\n",
              "[551333 rows x 6 columns]"
            ],
            "text/html": [
              "\n",
              "  <div id=\"df-779ac730-4326-42de-89d7-4b4831cd9bd4\">\n",
              "    <div class=\"colab-df-container\">\n",
              "      <div>\n",
              "<style scoped>\n",
              "    .dataframe tbody tr th:only-of-type {\n",
              "        vertical-align: middle;\n",
              "    }\n",
              "\n",
              "    .dataframe tbody tr th {\n",
              "        vertical-align: top;\n",
              "    }\n",
              "\n",
              "    .dataframe thead th {\n",
              "        text-align: right;\n",
              "    }\n",
              "</style>\n",
              "<table border=\"1\" class=\"dataframe\">\n",
              "  <thead>\n",
              "    <tr style=\"text-align: right;\">\n",
              "      <th></th>\n",
              "      <th>citing</th>\n",
              "      <th>cited</th>\n",
              "      <th>Title_citing</th>\n",
              "      <th>Venue_citing</th>\n",
              "      <th>Title_cited</th>\n",
              "      <th>Venue_cited</th>\n",
              "    </tr>\n",
              "  </thead>\n",
              "  <tbody>\n",
              "    <tr>\n",
              "      <th>212724</th>\n",
              "      <td>10.1007/s11187-012-9460-x</td>\n",
              "      <td>10.1007/s10490-010-9200-1</td>\n",
              "      <td>Disaggregating entrepreneurial orientation: th...</td>\n",
              "      <td>Small Business Economics</td>\n",
              "      <td>Entrepreneurial orientation and SME performanc...</td>\n",
              "      <td>Asia Pacific Journal of Management</td>\n",
              "    </tr>\n",
              "    <tr>\n",
              "      <th>212294</th>\n",
              "      <td>10.1007/s11365-016-0382-y</td>\n",
              "      <td>10.1007/s10490-010-9200-1</td>\n",
              "      <td>Environmental uncertainty, prospector strategy...</td>\n",
              "      <td>International Entrepreneurship and Management ...</td>\n",
              "      <td>Entrepreneurial orientation and SME performanc...</td>\n",
              "      <td>Asia Pacific Journal of Management</td>\n",
              "    </tr>\n",
              "    <tr>\n",
              "      <th>217112</th>\n",
              "      <td>10.1007/s11365-017-0457-4</td>\n",
              "      <td>10.1007/s10490-010-9200-1</td>\n",
              "      <td>Dimensional effects of Korean SME’s entreprene...</td>\n",
              "      <td>International Entrepreneurship and Management ...</td>\n",
              "      <td>Entrepreneurial orientation and SME performanc...</td>\n",
              "      <td>Asia Pacific Journal of Management</td>\n",
              "    </tr>\n",
              "    <tr>\n",
              "      <th>100891</th>\n",
              "      <td>10.1017/jmo.2017.20</td>\n",
              "      <td>10.1007/s10490-010-9200-1</td>\n",
              "      <td>Dynamic capabilities and organizational perfor...</td>\n",
              "      <td>Journal of Management &amp; Organization</td>\n",
              "      <td>Entrepreneurial orientation and SME performanc...</td>\n",
              "      <td>Asia Pacific Journal of Management</td>\n",
              "    </tr>\n",
              "    <tr>\n",
              "      <th>77775</th>\n",
              "      <td>10.1002/cjas.1352</td>\n",
              "      <td>10.1007/s10490-010-9200-1</td>\n",
              "      <td>How absorptive capacity moderates the value of...</td>\n",
              "      <td>Canadian Journal of Administrative Sciences / ...</td>\n",
              "      <td>Entrepreneurial orientation and SME performanc...</td>\n",
              "      <td>Asia Pacific Journal of Management</td>\n",
              "    </tr>\n",
              "    <tr>\n",
              "      <th>...</th>\n",
              "      <td>...</td>\n",
              "      <td>...</td>\n",
              "      <td>...</td>\n",
              "      <td>...</td>\n",
              "      <td>...</td>\n",
              "      <td>...</td>\n",
              "    </tr>\n",
              "    <tr>\n",
              "      <th>273338</th>\n",
              "      <td>10.1016/j.jtice.2019.08.008</td>\n",
              "      <td>10.1016/j.aei.2018.02.005</td>\n",
              "      <td>Safety integrity level analysis of fluid catal...</td>\n",
              "      <td>Journal of the Taiwan Institute of Chemical En...</td>\n",
              "      <td>Topological mapping and assessment of multiple...</td>\n",
              "      <td>Advanced Engineering Informatics</td>\n",
              "    </tr>\n",
              "    <tr>\n",
              "      <th>35576</th>\n",
              "      <td>10.1016/j.jvb.2020.103459</td>\n",
              "      <td>10.1007/s10869-020-09687-3</td>\n",
              "      <td>A meta-analysis of autonomous and controlled f...</td>\n",
              "      <td>Journal of Vocational Behavior</td>\n",
              "      <td>How robust is our cumulative knowledge on turn...</td>\n",
              "      <td>Journal of Business and Psychology</td>\n",
              "    </tr>\n",
              "    <tr>\n",
              "      <th>55271</th>\n",
              "      <td>10.1016/j.ajogmf.2020.100201</td>\n",
              "      <td>10.1007/s40199-020-00332-1</td>\n",
              "      <td>Retracted articles in the obstetrics literatur...</td>\n",
              "      <td>American Journal of Obstetrics &amp; Gynecology MFM</td>\n",
              "      <td>A review of the current concerns about miscond...</td>\n",
              "      <td>DARU Journal of Pharmaceutical Sciences</td>\n",
              "    </tr>\n",
              "    <tr>\n",
              "      <th>99868</th>\n",
              "      <td>10.1016/j.envpol.2020.115501</td>\n",
              "      <td>10.1016/j.cej.2020.125128</td>\n",
              "      <td>Waste-to-energy nexus: A sustainable development</td>\n",
              "      <td>Environmental Pollution</td>\n",
              "      <td>Scientometric analysis and scientific trends o...</td>\n",
              "      <td>Chemical Engineering Journal</td>\n",
              "    </tr>\n",
              "    <tr>\n",
              "      <th>120178</th>\n",
              "      <td>10.1016/j.jclepro.2019.119736</td>\n",
              "      <td>10.1016/j.wasman.2019.03.050</td>\n",
              "      <td>The environmental impacts of preparation for r...</td>\n",
              "      <td>Journal of Cleaner Production</td>\n",
              "      <td>Resource and environmental impacts of using se...</td>\n",
              "      <td>Waste Management</td>\n",
              "    </tr>\n",
              "  </tbody>\n",
              "</table>\n",
              "<p>551333 rows × 6 columns</p>\n",
              "</div>\n",
              "      <button class=\"colab-df-convert\" onclick=\"convertToInteractive('df-779ac730-4326-42de-89d7-4b4831cd9bd4')\"\n",
              "              title=\"Convert this dataframe to an interactive table.\"\n",
              "              style=\"display:none;\">\n",
              "        \n",
              "  <svg xmlns=\"http://www.w3.org/2000/svg\" height=\"24px\"viewBox=\"0 0 24 24\"\n",
              "       width=\"24px\">\n",
              "    <path d=\"M0 0h24v24H0V0z\" fill=\"none\"/>\n",
              "    <path d=\"M18.56 5.44l.94 2.06.94-2.06 2.06-.94-2.06-.94-.94-2.06-.94 2.06-2.06.94zm-11 1L8.5 8.5l.94-2.06 2.06-.94-2.06-.94L8.5 2.5l-.94 2.06-2.06.94zm10 10l.94 2.06.94-2.06 2.06-.94-2.06-.94-.94-2.06-.94 2.06-2.06.94z\"/><path d=\"M17.41 7.96l-1.37-1.37c-.4-.4-.92-.59-1.43-.59-.52 0-1.04.2-1.43.59L10.3 9.45l-7.72 7.72c-.78.78-.78 2.05 0 2.83L4 21.41c.39.39.9.59 1.41.59.51 0 1.02-.2 1.41-.59l7.78-7.78 2.81-2.81c.8-.78.8-2.07 0-2.86zM5.41 20L4 18.59l7.72-7.72 1.47 1.35L5.41 20z\"/>\n",
              "  </svg>\n",
              "      </button>\n",
              "      \n",
              "  <style>\n",
              "    .colab-df-container {\n",
              "      display:flex;\n",
              "      flex-wrap:wrap;\n",
              "      gap: 12px;\n",
              "    }\n",
              "\n",
              "    .colab-df-convert {\n",
              "      background-color: #E8F0FE;\n",
              "      border: none;\n",
              "      border-radius: 50%;\n",
              "      cursor: pointer;\n",
              "      display: none;\n",
              "      fill: #1967D2;\n",
              "      height: 32px;\n",
              "      padding: 0 0 0 0;\n",
              "      width: 32px;\n",
              "    }\n",
              "\n",
              "    .colab-df-convert:hover {\n",
              "      background-color: #E2EBFA;\n",
              "      box-shadow: 0px 1px 2px rgba(60, 64, 67, 0.3), 0px 1px 3px 1px rgba(60, 64, 67, 0.15);\n",
              "      fill: #174EA6;\n",
              "    }\n",
              "\n",
              "    [theme=dark] .colab-df-convert {\n",
              "      background-color: #3B4455;\n",
              "      fill: #D2E3FC;\n",
              "    }\n",
              "\n",
              "    [theme=dark] .colab-df-convert:hover {\n",
              "      background-color: #434B5C;\n",
              "      box-shadow: 0px 1px 3px 1px rgba(0, 0, 0, 0.15);\n",
              "      filter: drop-shadow(0px 1px 2px rgba(0, 0, 0, 0.3));\n",
              "      fill: #FFFFFF;\n",
              "    }\n",
              "  </style>\n",
              "\n",
              "      <script>\n",
              "        const buttonEl =\n",
              "          document.querySelector('#df-779ac730-4326-42de-89d7-4b4831cd9bd4 button.colab-df-convert');\n",
              "        buttonEl.style.display =\n",
              "          google.colab.kernel.accessAllowed ? 'block' : 'none';\n",
              "\n",
              "        async function convertToInteractive(key) {\n",
              "          const element = document.querySelector('#df-779ac730-4326-42de-89d7-4b4831cd9bd4');\n",
              "          const dataTable =\n",
              "            await google.colab.kernel.invokeFunction('convertToInteractive',\n",
              "                                                     [key], {});\n",
              "          if (!dataTable) return;\n",
              "\n",
              "          const docLinkHtml = 'Like what you see? Visit the ' +\n",
              "            '<a target=\"_blank\" href=https://colab.research.google.com/notebooks/data_table.ipynb>data table notebook</a>'\n",
              "            + ' to learn more about interactive tables.';\n",
              "          element.innerHTML = '';\n",
              "          dataTable['output_type'] = 'display_data';\n",
              "          await google.colab.output.renderOutput(dataTable, element);\n",
              "          const docLink = document.createElement('div');\n",
              "          docLink.innerHTML = docLinkHtml;\n",
              "          element.appendChild(docLink);\n",
              "        }\n",
              "      </script>\n",
              "    </div>\n",
              "  </div>\n",
              "  "
            ]
          },
          "metadata": {},
          "execution_count": 8
        }
      ]
    },
    {
      "cell_type": "code",
      "source": [
        "get_rows = df.head(500)"
      ],
      "metadata": {
        "id": "7NpTtKVfJHFv"
      },
      "execution_count": null,
      "outputs": []
    },
    {
      "cell_type": "code",
      "source": [
        "get_rows"
      ],
      "metadata": {
        "id": "5W6D24nUJJEc",
        "colab": {
          "base_uri": "https://localhost:8080/",
          "height": 424
        },
        "outputId": "7932d465-b22f-4a55-b780-37c76456ea74"
      },
      "execution_count": null,
      "outputs": [
        {
          "output_type": "execute_result",
          "data": {
            "text/plain": [
              "                                citing                      cited  \\\n",
              "212724       10.1007/s11187-012-9460-x  10.1007/s10490-010-9200-1   \n",
              "212294       10.1007/s11365-016-0382-y  10.1007/s10490-010-9200-1   \n",
              "217112       10.1007/s11365-017-0457-4  10.1007/s10490-010-9200-1   \n",
              "100891             10.1017/jmo.2017.20  10.1007/s10490-010-9200-1   \n",
              "77775                10.1002/cjas.1352  10.1007/s10490-010-9200-1   \n",
              "...                                ...                        ...   \n",
              "316994     10.1016/j.physa.2019.122372        10.1038/nature11421   \n",
              "288966  10.1016/j.physleta.2016.06.017        10.1038/nature11421   \n",
              "5830     10.1016/j.physrep.2018.05.002        10.1038/nature11421   \n",
              "231085   10.1016/j.physrep.2019.05.002        10.1038/nature11421   \n",
              "311595   10.1016/j.physrep.2019.07.001        10.1038/nature11421   \n",
              "\n",
              "                                             Title_citing  \\\n",
              "212724  Disaggregating entrepreneurial orientation: th...   \n",
              "212294  Environmental uncertainty, prospector strategy...   \n",
              "217112  Dimensional effects of Korean SME’s entreprene...   \n",
              "100891  Dynamic capabilities and organizational perfor...   \n",
              "77775   How absorptive capacity moderates the value of...   \n",
              "...                                                   ...   \n",
              "316994  A new direction in social network analysis: On...   \n",
              "288966   Phase transitions in models of human cooperation   \n",
              "5830    Structure-oriented prediction in complex networks   \n",
              "231085                       Computational socioeconomics   \n",
              "311595          Coevolution spreading in complex networks   \n",
              "\n",
              "                                             Venue_citing  \\\n",
              "212724                           Small Business Economics   \n",
              "212294  International Entrepreneurship and Management ...   \n",
              "217112  International Entrepreneurship and Management ...   \n",
              "100891               Journal of Management & Organization   \n",
              "77775   Canadian Journal of Administrative Sciences / ...   \n",
              "...                                                   ...   \n",
              "316994  Physica A: Statistical Mechanics and its Appli...   \n",
              "288966                                  Physics Letters A   \n",
              "5830                                      Physics Reports   \n",
              "231085                                    Physics Reports   \n",
              "311595                                    Physics Reports   \n",
              "\n",
              "                                              Title_cited  \\\n",
              "212724  Entrepreneurial orientation and SME performanc...   \n",
              "212294  Entrepreneurial orientation and SME performanc...   \n",
              "217112  Entrepreneurial orientation and SME performanc...   \n",
              "100891  Entrepreneurial orientation and SME performanc...   \n",
              "77775   Entrepreneurial orientation and SME performanc...   \n",
              "...                                                   ...   \n",
              "316994  A 61-million-person experiment in social influ...   \n",
              "288966  A 61-million-person experiment in social influ...   \n",
              "5830    A 61-million-person experiment in social influ...   \n",
              "231085  A 61-million-person experiment in social influ...   \n",
              "311595  A 61-million-person experiment in social influ...   \n",
              "\n",
              "                               Venue_cited  \n",
              "212724  Asia Pacific Journal of Management  \n",
              "212294  Asia Pacific Journal of Management  \n",
              "217112  Asia Pacific Journal of Management  \n",
              "100891  Asia Pacific Journal of Management  \n",
              "77775   Asia Pacific Journal of Management  \n",
              "...                                    ...  \n",
              "316994                              Nature  \n",
              "288966                              Nature  \n",
              "5830                                Nature  \n",
              "231085                              Nature  \n",
              "311595                              Nature  \n",
              "\n",
              "[500 rows x 6 columns]"
            ],
            "text/html": [
              "\n",
              "  <div id=\"df-705addf6-334d-4d9e-837d-4f2676360b9e\">\n",
              "    <div class=\"colab-df-container\">\n",
              "      <div>\n",
              "<style scoped>\n",
              "    .dataframe tbody tr th:only-of-type {\n",
              "        vertical-align: middle;\n",
              "    }\n",
              "\n",
              "    .dataframe tbody tr th {\n",
              "        vertical-align: top;\n",
              "    }\n",
              "\n",
              "    .dataframe thead th {\n",
              "        text-align: right;\n",
              "    }\n",
              "</style>\n",
              "<table border=\"1\" class=\"dataframe\">\n",
              "  <thead>\n",
              "    <tr style=\"text-align: right;\">\n",
              "      <th></th>\n",
              "      <th>citing</th>\n",
              "      <th>cited</th>\n",
              "      <th>Title_citing</th>\n",
              "      <th>Venue_citing</th>\n",
              "      <th>Title_cited</th>\n",
              "      <th>Venue_cited</th>\n",
              "    </tr>\n",
              "  </thead>\n",
              "  <tbody>\n",
              "    <tr>\n",
              "      <th>212724</th>\n",
              "      <td>10.1007/s11187-012-9460-x</td>\n",
              "      <td>10.1007/s10490-010-9200-1</td>\n",
              "      <td>Disaggregating entrepreneurial orientation: th...</td>\n",
              "      <td>Small Business Economics</td>\n",
              "      <td>Entrepreneurial orientation and SME performanc...</td>\n",
              "      <td>Asia Pacific Journal of Management</td>\n",
              "    </tr>\n",
              "    <tr>\n",
              "      <th>212294</th>\n",
              "      <td>10.1007/s11365-016-0382-y</td>\n",
              "      <td>10.1007/s10490-010-9200-1</td>\n",
              "      <td>Environmental uncertainty, prospector strategy...</td>\n",
              "      <td>International Entrepreneurship and Management ...</td>\n",
              "      <td>Entrepreneurial orientation and SME performanc...</td>\n",
              "      <td>Asia Pacific Journal of Management</td>\n",
              "    </tr>\n",
              "    <tr>\n",
              "      <th>217112</th>\n",
              "      <td>10.1007/s11365-017-0457-4</td>\n",
              "      <td>10.1007/s10490-010-9200-1</td>\n",
              "      <td>Dimensional effects of Korean SME’s entreprene...</td>\n",
              "      <td>International Entrepreneurship and Management ...</td>\n",
              "      <td>Entrepreneurial orientation and SME performanc...</td>\n",
              "      <td>Asia Pacific Journal of Management</td>\n",
              "    </tr>\n",
              "    <tr>\n",
              "      <th>100891</th>\n",
              "      <td>10.1017/jmo.2017.20</td>\n",
              "      <td>10.1007/s10490-010-9200-1</td>\n",
              "      <td>Dynamic capabilities and organizational perfor...</td>\n",
              "      <td>Journal of Management &amp; Organization</td>\n",
              "      <td>Entrepreneurial orientation and SME performanc...</td>\n",
              "      <td>Asia Pacific Journal of Management</td>\n",
              "    </tr>\n",
              "    <tr>\n",
              "      <th>77775</th>\n",
              "      <td>10.1002/cjas.1352</td>\n",
              "      <td>10.1007/s10490-010-9200-1</td>\n",
              "      <td>How absorptive capacity moderates the value of...</td>\n",
              "      <td>Canadian Journal of Administrative Sciences / ...</td>\n",
              "      <td>Entrepreneurial orientation and SME performanc...</td>\n",
              "      <td>Asia Pacific Journal of Management</td>\n",
              "    </tr>\n",
              "    <tr>\n",
              "      <th>...</th>\n",
              "      <td>...</td>\n",
              "      <td>...</td>\n",
              "      <td>...</td>\n",
              "      <td>...</td>\n",
              "      <td>...</td>\n",
              "      <td>...</td>\n",
              "    </tr>\n",
              "    <tr>\n",
              "      <th>316994</th>\n",
              "      <td>10.1016/j.physa.2019.122372</td>\n",
              "      <td>10.1038/nature11421</td>\n",
              "      <td>A new direction in social network analysis: On...</td>\n",
              "      <td>Physica A: Statistical Mechanics and its Appli...</td>\n",
              "      <td>A 61-million-person experiment in social influ...</td>\n",
              "      <td>Nature</td>\n",
              "    </tr>\n",
              "    <tr>\n",
              "      <th>288966</th>\n",
              "      <td>10.1016/j.physleta.2016.06.017</td>\n",
              "      <td>10.1038/nature11421</td>\n",
              "      <td>Phase transitions in models of human cooperation</td>\n",
              "      <td>Physics Letters A</td>\n",
              "      <td>A 61-million-person experiment in social influ...</td>\n",
              "      <td>Nature</td>\n",
              "    </tr>\n",
              "    <tr>\n",
              "      <th>5830</th>\n",
              "      <td>10.1016/j.physrep.2018.05.002</td>\n",
              "      <td>10.1038/nature11421</td>\n",
              "      <td>Structure-oriented prediction in complex networks</td>\n",
              "      <td>Physics Reports</td>\n",
              "      <td>A 61-million-person experiment in social influ...</td>\n",
              "      <td>Nature</td>\n",
              "    </tr>\n",
              "    <tr>\n",
              "      <th>231085</th>\n",
              "      <td>10.1016/j.physrep.2019.05.002</td>\n",
              "      <td>10.1038/nature11421</td>\n",
              "      <td>Computational socioeconomics</td>\n",
              "      <td>Physics Reports</td>\n",
              "      <td>A 61-million-person experiment in social influ...</td>\n",
              "      <td>Nature</td>\n",
              "    </tr>\n",
              "    <tr>\n",
              "      <th>311595</th>\n",
              "      <td>10.1016/j.physrep.2019.07.001</td>\n",
              "      <td>10.1038/nature11421</td>\n",
              "      <td>Coevolution spreading in complex networks</td>\n",
              "      <td>Physics Reports</td>\n",
              "      <td>A 61-million-person experiment in social influ...</td>\n",
              "      <td>Nature</td>\n",
              "    </tr>\n",
              "  </tbody>\n",
              "</table>\n",
              "<p>500 rows × 6 columns</p>\n",
              "</div>\n",
              "      <button class=\"colab-df-convert\" onclick=\"convertToInteractive('df-705addf6-334d-4d9e-837d-4f2676360b9e')\"\n",
              "              title=\"Convert this dataframe to an interactive table.\"\n",
              "              style=\"display:none;\">\n",
              "        \n",
              "  <svg xmlns=\"http://www.w3.org/2000/svg\" height=\"24px\"viewBox=\"0 0 24 24\"\n",
              "       width=\"24px\">\n",
              "    <path d=\"M0 0h24v24H0V0z\" fill=\"none\"/>\n",
              "    <path d=\"M18.56 5.44l.94 2.06.94-2.06 2.06-.94-2.06-.94-.94-2.06-.94 2.06-2.06.94zm-11 1L8.5 8.5l.94-2.06 2.06-.94-2.06-.94L8.5 2.5l-.94 2.06-2.06.94zm10 10l.94 2.06.94-2.06 2.06-.94-2.06-.94-.94-2.06-.94 2.06-2.06.94z\"/><path d=\"M17.41 7.96l-1.37-1.37c-.4-.4-.92-.59-1.43-.59-.52 0-1.04.2-1.43.59L10.3 9.45l-7.72 7.72c-.78.78-.78 2.05 0 2.83L4 21.41c.39.39.9.59 1.41.59.51 0 1.02-.2 1.41-.59l7.78-7.78 2.81-2.81c.8-.78.8-2.07 0-2.86zM5.41 20L4 18.59l7.72-7.72 1.47 1.35L5.41 20z\"/>\n",
              "  </svg>\n",
              "      </button>\n",
              "      \n",
              "  <style>\n",
              "    .colab-df-container {\n",
              "      display:flex;\n",
              "      flex-wrap:wrap;\n",
              "      gap: 12px;\n",
              "    }\n",
              "\n",
              "    .colab-df-convert {\n",
              "      background-color: #E8F0FE;\n",
              "      border: none;\n",
              "      border-radius: 50%;\n",
              "      cursor: pointer;\n",
              "      display: none;\n",
              "      fill: #1967D2;\n",
              "      height: 32px;\n",
              "      padding: 0 0 0 0;\n",
              "      width: 32px;\n",
              "    }\n",
              "\n",
              "    .colab-df-convert:hover {\n",
              "      background-color: #E2EBFA;\n",
              "      box-shadow: 0px 1px 2px rgba(60, 64, 67, 0.3), 0px 1px 3px 1px rgba(60, 64, 67, 0.15);\n",
              "      fill: #174EA6;\n",
              "    }\n",
              "\n",
              "    [theme=dark] .colab-df-convert {\n",
              "      background-color: #3B4455;\n",
              "      fill: #D2E3FC;\n",
              "    }\n",
              "\n",
              "    [theme=dark] .colab-df-convert:hover {\n",
              "      background-color: #434B5C;\n",
              "      box-shadow: 0px 1px 3px 1px rgba(0, 0, 0, 0.15);\n",
              "      filter: drop-shadow(0px 1px 2px rgba(0, 0, 0, 0.3));\n",
              "      fill: #FFFFFF;\n",
              "    }\n",
              "  </style>\n",
              "\n",
              "      <script>\n",
              "        const buttonEl =\n",
              "          document.querySelector('#df-705addf6-334d-4d9e-837d-4f2676360b9e button.colab-df-convert');\n",
              "        buttonEl.style.display =\n",
              "          google.colab.kernel.accessAllowed ? 'block' : 'none';\n",
              "\n",
              "        async function convertToInteractive(key) {\n",
              "          const element = document.querySelector('#df-705addf6-334d-4d9e-837d-4f2676360b9e');\n",
              "          const dataTable =\n",
              "            await google.colab.kernel.invokeFunction('convertToInteractive',\n",
              "                                                     [key], {});\n",
              "          if (!dataTable) return;\n",
              "\n",
              "          const docLinkHtml = 'Like what you see? Visit the ' +\n",
              "            '<a target=\"_blank\" href=https://colab.research.google.com/notebooks/data_table.ipynb>data table notebook</a>'\n",
              "            + ' to learn more about interactive tables.';\n",
              "          element.innerHTML = '';\n",
              "          dataTable['output_type'] = 'display_data';\n",
              "          await google.colab.output.renderOutput(dataTable, element);\n",
              "          const docLink = document.createElement('div');\n",
              "          docLink.innerHTML = docLinkHtml;\n",
              "          element.appendChild(docLink);\n",
              "        }\n",
              "      </script>\n",
              "    </div>\n",
              "  </div>\n",
              "  "
            ]
          },
          "metadata": {},
          "execution_count": 10
        }
      ]
    },
    {
      "cell_type": "code",
      "source": [
        "import networkx as nx\n",
        "import matplotlib.pyplot as plt\n",
        "\n",
        "from IPython.display import IFrame, display"
      ],
      "metadata": {
        "id": "uIckjJwLJJ6G"
      },
      "execution_count": null,
      "outputs": []
    },
    {
      "cell_type": "code",
      "source": [
        "G = nx.from_pandas_edgelist(get_rows, 'citing', 'cited')\n"
      ],
      "metadata": {
        "id": "ogjjxi4jN2NX"
      },
      "execution_count": null,
      "outputs": []
    },
    {
      "cell_type": "code",
      "source": [
        "G.number_of_nodes()"
      ],
      "metadata": {
        "colab": {
          "base_uri": "https://localhost:8080/"
        },
        "id": "MLVVDTcDN4w9",
        "outputId": "145c67cb-dc9a-4edc-cc95-b8758970258c"
      },
      "execution_count": null,
      "outputs": [
        {
          "output_type": "execute_result",
          "data": {
            "text/plain": [
              "502"
            ]
          },
          "metadata": {},
          "execution_count": 17
        }
      ]
    },
    {
      "cell_type": "code",
      "source": [
        "data=nx.voterank(G)"
      ],
      "metadata": {
        "id": "dpAlbzoMN7Oc"
      },
      "execution_count": null,
      "outputs": []
    },
    {
      "cell_type": "code",
      "source": [
        "data"
      ],
      "metadata": {
        "colab": {
          "base_uri": "https://localhost:8080/"
        },
        "id": "2lvouGOKOb2D",
        "outputId": "a8b75d16-8ad5-42bd-a98b-4c0652a9e73c"
      },
      "execution_count": null,
      "outputs": [
        {
          "output_type": "execute_result",
          "data": {
            "text/plain": [
              "['10.1038/nature11421',\n",
              " '10.1111/j.1540-6520.2011.00451.x',\n",
              " '10.1007/s10490-010-9200-1']"
            ]
          },
          "metadata": {},
          "execution_count": 95
        }
      ]
    },
    {
      "cell_type": "code",
      "source": [
        "#Thank me later............\n",
        "Dc = pd.DataFrame(dict(\n",
        "    DEGREE = dict(G.degree),\n",
        "    DEGREE_CENTRALITY = nx.degree_centrality(G),\n",
        "    EIGENVECTOR = nx.eigenvector_centrality(G,tol=1e-03),\n",
        "    BETWEENEESS_CENTRALITY = nx.betweenness_centrality(G),\n",
        "    KATZ = nx.katz_centrality_numpy(G),\n",
        "    CLOSENESS_CENTRALITY = nx.closeness_centrality(G),\n",
        "    out_degree=nx.out_degree_centrality(G),\n",
        "    eigenvector_centrality_numpy=nx.eigenvector_centrality_numpy(G,tol=1e-03),\n",
        "    katz_centrality_numpy=nx.katz_centrality_numpy(G),\n",
        "    closeness_centrality=nx.closeness_centrality(G),\n",
        "    betweenness_centrality=nx.betweenness_centrality(G),\n",
        "    betweenness_centrality_source=nx.betweenness_centrality_source(G),\n",
        "    edge_betweenness_centrality=nx.edge_betweenness_centrality(G),\n",
        "    communicability_betweenness_centrality=nx.communicability_betweenness_centrality(G),\n",
        "    load_centrality=nx.load_centrality(G),\n",
        "    edge_load_centrality=nx.edge_load_centrality(G),\n",
        "    subgraph_centrality=nx.subgraph_centrality(G),\n",
        "    subgraph_centrality_exp=nx.subgraph_centrality_exp(G),\n",
        "    estrada_index=nx.estrada_index(G),\n",
        "    harmonic_centrality=nx.harmonic_centrality(G),\n",
        "    dispersion=nx.dispersion(G),\n",
        "    global_reaching_centrality=nx.global_reaching_centrality(G),\n",
        "    voterank=nx.voterank(G),\n",
        "\n",
        "\n",
        "    \n",
        ")) "
      ],
      "metadata": {
        "id": "yXe_t1F7OKM-"
      },
      "execution_count": null,
      "outputs": []
    },
    {
      "cell_type": "code",
      "source": [
        "Dc"
      ],
      "metadata": {
        "colab": {
          "base_uri": "https://localhost:8080/",
          "height": 424
        },
        "id": "zCvTFtCcRneU",
        "outputId": "84f85cd3-1515-4903-c425-a10aa155c16a"
      },
      "execution_count": null,
      "outputs": [
        {
          "output_type": "execute_result",
          "data": {
            "text/plain": [
              "                                DEGREE  DEGREE_CENTRALITY   EIGENVECTOR  \\\n",
              "10.1007/s11187-012-9460-x            1           0.001996  1.704988e-14   \n",
              "10.1007/s10490-010-9200-1           30           0.059880  1.688993e-13   \n",
              "10.1007/s11365-016-0382-y            1           0.001996  1.704988e-14   \n",
              "10.1007/s11365-017-0457-4            1           0.001996  1.704988e-14   \n",
              "10.1017/jmo.2017.20                  1           0.001996  1.704988e-14   \n",
              "...                                ...                ...           ...   \n",
              "10.1016/j.physa.2019.122372          1           0.001996  3.608024e-02   \n",
              "10.1016/j.physleta.2016.06.017       1           0.001996  3.608024e-02   \n",
              "10.1016/j.physrep.2018.05.002        1           0.001996  3.608024e-02   \n",
              "10.1016/j.physrep.2019.05.002        1           0.001996  3.608024e-02   \n",
              "10.1016/j.physrep.2019.07.001        1           0.001996  3.608024e-02   \n",
              "\n",
              "                                BETWEENEESS_CENTRALITY      KATZ  \\\n",
              "10.1007/s11187-012-9460-x                     0.000000  0.003028   \n",
              "10.1007/s10490-010-9200-1                     0.026164  0.017410   \n",
              "10.1007/s11365-016-0382-y                     0.000000  0.003028   \n",
              "10.1007/s11365-017-0457-4                     0.000000  0.003028   \n",
              "10.1017/jmo.2017.20                           0.000000  0.003028   \n",
              "...                                                ...       ...   \n",
              "10.1016/j.physa.2019.122372                   0.000000 -0.000521   \n",
              "10.1016/j.physleta.2016.06.017                0.000000 -0.000521   \n",
              "10.1016/j.physrep.2018.05.002                 0.000000 -0.000521   \n",
              "10.1016/j.physrep.2019.05.002                 0.000000 -0.000521   \n",
              "10.1016/j.physrep.2019.07.001                 0.000000 -0.000521   \n",
              "\n",
              "                                CLOSENESS_CENTRALITY  \n",
              "10.1007/s11187-012-9460-x                   0.072672  \n",
              "10.1007/s10490-010-9200-1                   0.101246  \n",
              "10.1007/s11365-016-0382-y                   0.072672  \n",
              "10.1007/s11365-017-0457-4                   0.072672  \n",
              "10.1017/jmo.2017.20                         0.072672  \n",
              "...                                              ...  \n",
              "10.1016/j.physa.2019.122372                 0.371757  \n",
              "10.1016/j.physleta.2016.06.017              0.371757  \n",
              "10.1016/j.physrep.2018.05.002               0.371757  \n",
              "10.1016/j.physrep.2019.05.002               0.371757  \n",
              "10.1016/j.physrep.2019.07.001               0.371757  \n",
              "\n",
              "[502 rows x 6 columns]"
            ],
            "text/html": [
              "\n",
              "  <div id=\"df-8a6dfe9c-ac48-4fe9-8278-92013a5ab8e7\">\n",
              "    <div class=\"colab-df-container\">\n",
              "      <div>\n",
              "<style scoped>\n",
              "    .dataframe tbody tr th:only-of-type {\n",
              "        vertical-align: middle;\n",
              "    }\n",
              "\n",
              "    .dataframe tbody tr th {\n",
              "        vertical-align: top;\n",
              "    }\n",
              "\n",
              "    .dataframe thead th {\n",
              "        text-align: right;\n",
              "    }\n",
              "</style>\n",
              "<table border=\"1\" class=\"dataframe\">\n",
              "  <thead>\n",
              "    <tr style=\"text-align: right;\">\n",
              "      <th></th>\n",
              "      <th>DEGREE</th>\n",
              "      <th>DEGREE_CENTRALITY</th>\n",
              "      <th>EIGENVECTOR</th>\n",
              "      <th>BETWEENEESS_CENTRALITY</th>\n",
              "      <th>KATZ</th>\n",
              "      <th>CLOSENESS_CENTRALITY</th>\n",
              "    </tr>\n",
              "  </thead>\n",
              "  <tbody>\n",
              "    <tr>\n",
              "      <th>10.1007/s11187-012-9460-x</th>\n",
              "      <td>1</td>\n",
              "      <td>0.001996</td>\n",
              "      <td>1.704988e-14</td>\n",
              "      <td>0.000000</td>\n",
              "      <td>0.003028</td>\n",
              "      <td>0.072672</td>\n",
              "    </tr>\n",
              "    <tr>\n",
              "      <th>10.1007/s10490-010-9200-1</th>\n",
              "      <td>30</td>\n",
              "      <td>0.059880</td>\n",
              "      <td>1.688993e-13</td>\n",
              "      <td>0.026164</td>\n",
              "      <td>0.017410</td>\n",
              "      <td>0.101246</td>\n",
              "    </tr>\n",
              "    <tr>\n",
              "      <th>10.1007/s11365-016-0382-y</th>\n",
              "      <td>1</td>\n",
              "      <td>0.001996</td>\n",
              "      <td>1.704988e-14</td>\n",
              "      <td>0.000000</td>\n",
              "      <td>0.003028</td>\n",
              "      <td>0.072672</td>\n",
              "    </tr>\n",
              "    <tr>\n",
              "      <th>10.1007/s11365-017-0457-4</th>\n",
              "      <td>1</td>\n",
              "      <td>0.001996</td>\n",
              "      <td>1.704988e-14</td>\n",
              "      <td>0.000000</td>\n",
              "      <td>0.003028</td>\n",
              "      <td>0.072672</td>\n",
              "    </tr>\n",
              "    <tr>\n",
              "      <th>10.1017/jmo.2017.20</th>\n",
              "      <td>1</td>\n",
              "      <td>0.001996</td>\n",
              "      <td>1.704988e-14</td>\n",
              "      <td>0.000000</td>\n",
              "      <td>0.003028</td>\n",
              "      <td>0.072672</td>\n",
              "    </tr>\n",
              "    <tr>\n",
              "      <th>...</th>\n",
              "      <td>...</td>\n",
              "      <td>...</td>\n",
              "      <td>...</td>\n",
              "      <td>...</td>\n",
              "      <td>...</td>\n",
              "      <td>...</td>\n",
              "    </tr>\n",
              "    <tr>\n",
              "      <th>10.1016/j.physa.2019.122372</th>\n",
              "      <td>1</td>\n",
              "      <td>0.001996</td>\n",
              "      <td>3.608024e-02</td>\n",
              "      <td>0.000000</td>\n",
              "      <td>-0.000521</td>\n",
              "      <td>0.371757</td>\n",
              "    </tr>\n",
              "    <tr>\n",
              "      <th>10.1016/j.physleta.2016.06.017</th>\n",
              "      <td>1</td>\n",
              "      <td>0.001996</td>\n",
              "      <td>3.608024e-02</td>\n",
              "      <td>0.000000</td>\n",
              "      <td>-0.000521</td>\n",
              "      <td>0.371757</td>\n",
              "    </tr>\n",
              "    <tr>\n",
              "      <th>10.1016/j.physrep.2018.05.002</th>\n",
              "      <td>1</td>\n",
              "      <td>0.001996</td>\n",
              "      <td>3.608024e-02</td>\n",
              "      <td>0.000000</td>\n",
              "      <td>-0.000521</td>\n",
              "      <td>0.371757</td>\n",
              "    </tr>\n",
              "    <tr>\n",
              "      <th>10.1016/j.physrep.2019.05.002</th>\n",
              "      <td>1</td>\n",
              "      <td>0.001996</td>\n",
              "      <td>3.608024e-02</td>\n",
              "      <td>0.000000</td>\n",
              "      <td>-0.000521</td>\n",
              "      <td>0.371757</td>\n",
              "    </tr>\n",
              "    <tr>\n",
              "      <th>10.1016/j.physrep.2019.07.001</th>\n",
              "      <td>1</td>\n",
              "      <td>0.001996</td>\n",
              "      <td>3.608024e-02</td>\n",
              "      <td>0.000000</td>\n",
              "      <td>-0.000521</td>\n",
              "      <td>0.371757</td>\n",
              "    </tr>\n",
              "  </tbody>\n",
              "</table>\n",
              "<p>502 rows × 6 columns</p>\n",
              "</div>\n",
              "      <button class=\"colab-df-convert\" onclick=\"convertToInteractive('df-8a6dfe9c-ac48-4fe9-8278-92013a5ab8e7')\"\n",
              "              title=\"Convert this dataframe to an interactive table.\"\n",
              "              style=\"display:none;\">\n",
              "        \n",
              "  <svg xmlns=\"http://www.w3.org/2000/svg\" height=\"24px\"viewBox=\"0 0 24 24\"\n",
              "       width=\"24px\">\n",
              "    <path d=\"M0 0h24v24H0V0z\" fill=\"none\"/>\n",
              "    <path d=\"M18.56 5.44l.94 2.06.94-2.06 2.06-.94-2.06-.94-.94-2.06-.94 2.06-2.06.94zm-11 1L8.5 8.5l.94-2.06 2.06-.94-2.06-.94L8.5 2.5l-.94 2.06-2.06.94zm10 10l.94 2.06.94-2.06 2.06-.94-2.06-.94-.94-2.06-.94 2.06-2.06.94z\"/><path d=\"M17.41 7.96l-1.37-1.37c-.4-.4-.92-.59-1.43-.59-.52 0-1.04.2-1.43.59L10.3 9.45l-7.72 7.72c-.78.78-.78 2.05 0 2.83L4 21.41c.39.39.9.59 1.41.59.51 0 1.02-.2 1.41-.59l7.78-7.78 2.81-2.81c.8-.78.8-2.07 0-2.86zM5.41 20L4 18.59l7.72-7.72 1.47 1.35L5.41 20z\"/>\n",
              "  </svg>\n",
              "      </button>\n",
              "      \n",
              "  <style>\n",
              "    .colab-df-container {\n",
              "      display:flex;\n",
              "      flex-wrap:wrap;\n",
              "      gap: 12px;\n",
              "    }\n",
              "\n",
              "    .colab-df-convert {\n",
              "      background-color: #E8F0FE;\n",
              "      border: none;\n",
              "      border-radius: 50%;\n",
              "      cursor: pointer;\n",
              "      display: none;\n",
              "      fill: #1967D2;\n",
              "      height: 32px;\n",
              "      padding: 0 0 0 0;\n",
              "      width: 32px;\n",
              "    }\n",
              "\n",
              "    .colab-df-convert:hover {\n",
              "      background-color: #E2EBFA;\n",
              "      box-shadow: 0px 1px 2px rgba(60, 64, 67, 0.3), 0px 1px 3px 1px rgba(60, 64, 67, 0.15);\n",
              "      fill: #174EA6;\n",
              "    }\n",
              "\n",
              "    [theme=dark] .colab-df-convert {\n",
              "      background-color: #3B4455;\n",
              "      fill: #D2E3FC;\n",
              "    }\n",
              "\n",
              "    [theme=dark] .colab-df-convert:hover {\n",
              "      background-color: #434B5C;\n",
              "      box-shadow: 0px 1px 3px 1px rgba(0, 0, 0, 0.15);\n",
              "      filter: drop-shadow(0px 1px 2px rgba(0, 0, 0, 0.3));\n",
              "      fill: #FFFFFF;\n",
              "    }\n",
              "  </style>\n",
              "\n",
              "      <script>\n",
              "        const buttonEl =\n",
              "          document.querySelector('#df-8a6dfe9c-ac48-4fe9-8278-92013a5ab8e7 button.colab-df-convert');\n",
              "        buttonEl.style.display =\n",
              "          google.colab.kernel.accessAllowed ? 'block' : 'none';\n",
              "\n",
              "        async function convertToInteractive(key) {\n",
              "          const element = document.querySelector('#df-8a6dfe9c-ac48-4fe9-8278-92013a5ab8e7');\n",
              "          const dataTable =\n",
              "            await google.colab.kernel.invokeFunction('convertToInteractive',\n",
              "                                                     [key], {});\n",
              "          if (!dataTable) return;\n",
              "\n",
              "          const docLinkHtml = 'Like what you see? Visit the ' +\n",
              "            '<a target=\"_blank\" href=https://colab.research.google.com/notebooks/data_table.ipynb>data table notebook</a>'\n",
              "            + ' to learn more about interactive tables.';\n",
              "          element.innerHTML = '';\n",
              "          dataTable['output_type'] = 'display_data';\n",
              "          await google.colab.output.renderOutput(dataTable, element);\n",
              "          const docLink = document.createElement('div');\n",
              "          docLink.innerHTML = docLinkHtml;\n",
              "          element.appendChild(docLink);\n",
              "        }\n",
              "      </script>\n",
              "    </div>\n",
              "  </div>\n",
              "  "
            ]
          },
          "metadata": {},
          "execution_count": 22
        }
      ]
    },
    {
      "cell_type": "code",
      "source": [
        "nx.is_connected(G)"
      ],
      "metadata": {
        "id": "jN6k8d6_OKTp",
        "colab": {
          "base_uri": "https://localhost:8080/"
        },
        "outputId": "451f0839-5625-4f9f-f1b2-2f21d422329c"
      },
      "execution_count": null,
      "outputs": [
        {
          "output_type": "execute_result",
          "data": {
            "text/plain": [
              "False"
            ]
          },
          "metadata": {},
          "execution_count": 37
        }
      ]
    },
    {
      "cell_type": "markdown",
      "source": [
        "Testing cliques on the graph"
      ],
      "metadata": {
        "id": "kvAaKkLpP7wb"
      }
    },
    {
      "cell_type": "code",
      "source": [
        "cliques = list(nx.find_cliques(G))"
      ],
      "metadata": {
        "id": "9jDRUszvOKWm"
      },
      "execution_count": null,
      "outputs": []
    },
    {
      "cell_type": "code",
      "source": [
        "clique_number = len(list(cliques))\n",
        "print(clique_number)"
      ],
      "metadata": {
        "id": "2US2lPB8OKZZ",
        "colab": {
          "base_uri": "https://localhost:8080/"
        },
        "outputId": "ba1f80fb-1da4-4115-844d-853e270155c1"
      },
      "execution_count": null,
      "outputs": [
        {
          "output_type": "stream",
          "name": "stdout",
          "text": [
            "100\n"
          ]
        }
      ]
    },
    {
      "cell_type": "code",
      "source": [
        "for clique in cliques:\n",
        "    print(clique)"
      ],
      "metadata": {
        "id": "VJATxW7IOKcR",
        "colab": {
          "base_uri": "https://localhost:8080/"
        },
        "outputId": "e9040857-f4d5-4dd0-bcb4-baf5fde4093e"
      },
      "execution_count": null,
      "outputs": [
        {
          "output_type": "stream",
          "name": "stdout",
          "text": [
            "['10.1016/b978-0-08-101108-9.00004-5', '10.1007/s10490-010-9200-1']\n",
            "['10.1108/ijwbr-11-2016-0037', '10.1007/s10490-010-9200-1']\n",
            "['10.1016/b978-0-08-101108-9.10000-x', '10.1007/s10490-010-9200-1']\n",
            "['10.1007/s10490-010-9200-1', '10.1108/ijebr-01-2018-0040']\n",
            "['10.1007/s10490-010-9200-1', '10.1080/23311975.2020.1719586']\n",
            "['10.1007/s10490-010-9200-1', '10.3390/su11226299']\n",
            "['10.1007/s10490-010-9200-1', '10.1177/1059601116688612']\n",
            "['10.1007/s10490-010-9200-1', '10.1016/j.indmarman.2019.02.006']\n",
            "['10.1007/s10490-010-9200-1', '10.1371/journal.pone.0162175']\n",
            "['10.1007/s10490-010-9200-1', '10.1007/s11365-017-0457-4']\n",
            "['10.1007/s10490-010-9200-1', '10.1080/08985626.2019.1640437']\n",
            "['10.1007/s10490-010-9200-1', '10.1016/j.intman.2016.03.002']\n",
            "['10.1007/s10490-010-9200-1', '10.1002/sej.1158']\n",
            "['10.1007/s10490-010-9200-1', '10.1080/10669868.2017.1345819']\n",
            "['10.1007/s10490-010-9200-1', '10.1108/ijebr-07-2018-0465']\n",
            "['10.1007/s10490-010-9200-1', '10.1007/s10490-017-9539-7']\n",
            "['10.1007/s10490-010-9200-1', '10.1108/jmtm-04-2017-0064']\n",
            "['10.1007/s10490-010-9200-1', '10.1002/sej.1325']\n",
            "['10.1007/s10490-010-9200-1', '10.1108/jec-09-2018-0065']\n",
            "['10.1007/s10490-010-9200-1', '10.1017/jmo.2017.20']\n",
            "['10.1007/s10490-010-9200-1', '10.1177/0266242618813423']\n",
            "['10.1007/s10490-010-9200-1', '10.1007/978-3-319-73528-3_8']\n",
            "['10.1007/s10490-010-9200-1', '10.1108/ijoa-05-2018-1433']\n",
            "['10.1007/s10490-010-9200-1', '10.1142/s1084946712500197']\n",
            "['10.1007/s10490-010-9200-1', '10.1108/md-04-2014-0222']\n",
            "['10.1007/s10490-010-9200-1', '10.1177/2158244020941000']\n",
            "['10.1007/s10490-010-9200-1', '10.1007/s10490-017-9560-x']\n",
            "['10.1007/s10490-010-9200-1', '10.1007/s11365-016-0382-y']\n",
            "['10.1007/s10490-010-9200-1', '10.1002/cjas.1352']\n",
            "['10.1007/s10490-010-9200-1', '10.1007/s11187-012-9460-x']\n",
            "['10.1111/j.1540-6520.2011.00451.x', '10.4018/978-1-5225-8939-6.ch009']\n",
            "['10.1111/j.1540-6520.2011.00451.x', '10.1111/etp.12239']\n",
            "['10.1111/j.1540-6520.2011.00451.x', '10.1111/j.1540-6520.2012.00549.x']\n",
            "['10.1111/j.1540-6520.2011.00451.x', '10.1002/sej.1341']\n",
            "['10.1111/j.1540-6520.2011.00451.x', '10.1080/14783363.2016.1266247']\n",
            "['10.1111/j.1540-6520.2011.00451.x', '10.1007/978-3-030-19685-1_5']\n",
            "['10.1111/j.1540-6520.2011.00451.x', '10.1111/jsbm.12344']\n",
            "['10.1111/j.1540-6520.2011.00451.x', '10.1108/ijebr-08-2015-0183']\n",
            "['10.1111/j.1540-6520.2011.00451.x', '10.1002/gsj.1200']\n",
            "['10.1111/j.1540-6520.2011.00451.x', '10.1080/15416518.2014.927322']\n",
            "['10.1111/j.1540-6520.2011.00451.x', '10.1007/978-3-319-73509-2_13']\n",
            "['10.1111/j.1540-6520.2011.00451.x', '10.1080/02642069.2013.778978']\n",
            "['10.1111/j.1540-6520.2011.00451.x', '10.1007/s11187-016-9818-6']\n",
            "['10.1111/j.1540-6520.2011.00451.x', '10.1108/pr-04-2019-0201']\n",
            "['10.1111/j.1540-6520.2011.00451.x', '10.1007/s11365-018-0498-3']\n",
            "['10.1111/j.1540-6520.2011.00451.x', '10.1177/030630701303800305']\n",
            "['10.1111/j.1540-6520.2011.00451.x', '10.1142/s0218495818500115']\n",
            "['10.1111/j.1540-6520.2011.00451.x', '10.1007/s11365-016-0419-2']\n",
            "['10.1111/j.1540-6520.2011.00451.x', '10.1177/0266242613502801']\n",
            "['10.1111/j.1540-6520.2011.00451.x', '10.1080/08985626.2016.1221230']\n",
            "['10.1111/j.1540-6520.2011.00451.x', '10.1108/pr-03-2018-0087']\n",
            "['10.1111/j.1540-6520.2011.00451.x', '10.1007/s11365-018-0512-9']\n",
            "['10.1111/j.1540-6520.2011.00451.x', '10.1111/etap.12239']\n",
            "['10.1111/j.1540-6520.2011.00451.x', '10.1111/etp.12213']\n",
            "['10.1111/j.1540-6520.2011.00451.x', '10.3389/fpsyg.2018.00102']\n",
            "['10.1111/j.1540-6520.2011.00451.x', '10.1108/s1048-473620180000028003']\n",
            "['10.1111/j.1540-6520.2011.00451.x', '10.1108/mrr-01-2017-0009']\n",
            "['10.1111/j.1540-6520.2011.00451.x', '10.3390/su10062037']\n",
            "['10.1111/j.1540-6520.2011.00451.x', '10.1108/wjemsd-08-2017-0048']\n",
            "['10.1111/j.1540-6520.2011.00451.x', '10.1057/9781137402226_1']\n",
            "['10.1111/j.1540-6520.2011.00451.x', '10.23919/picmet.2017.8125314']\n",
            "['10.1111/j.1540-6520.2011.00451.x', '10.1177/0894486518781940']\n",
            "['10.1111/j.1540-6520.2011.00451.x', '10.1177/1042258719838473']\n",
            "['10.1111/j.1540-6520.2011.00451.x', '10.1177/0971355716677389']\n",
            "['10.1111/j.1540-6520.2011.00451.x', '10.1108/nbri-08-2015-0019']\n",
            "['10.1111/j.1540-6520.2011.00451.x', '10.1007/s11365-019-00593-6']\n",
            "['10.1111/j.1540-6520.2011.00451.x', '10.1108/17422041311299941']\n",
            "['10.1111/j.1540-6520.2011.00451.x', '10.1111/etap.12097']\n",
            "['10.1111/j.1540-6520.2011.00451.x', '10.1111/etap.12150']\n",
            "['10.1111/j.1540-6520.2011.00451.x', '10.1108/jaoc-11-2016-0066']\n",
            "['10.1111/j.1540-6520.2011.00451.x', '10.1177/0266242615577708']\n",
            "['10.1111/j.1540-6520.2011.00451.x', '10.1111/etap.12021']\n",
            "['10.1111/j.1540-6520.2011.00451.x', '10.1007/s11187-017-9889-z']\n",
            "['10.1111/j.1540-6520.2011.00451.x', '10.1002/mar.21045']\n",
            "['10.1111/j.1540-6520.2011.00451.x', '10.1177/1042258718773181']\n",
            "['10.1111/j.1540-6520.2011.00451.x', '10.1017/jmo.2017.52']\n",
            "['10.1111/j.1540-6520.2011.00451.x', '10.1108/jsbed-07-2019-0254']\n",
            "['10.1111/j.1540-6520.2011.00451.x', '10.1142/s1363919619500439']\n",
            "['10.1111/j.1540-6520.2011.00451.x', '10.1002/sej.1306']\n",
            "['10.1111/j.1540-6520.2011.00451.x', '10.1177/1476127014561944']\n",
            "['10.1111/j.1540-6520.2011.00451.x', '10.1007/s11365-013-0270-7']\n",
            "['10.1111/j.1540-6520.2011.00451.x', '10.1108/jfbm-10-2017-0035']\n",
            "['10.1111/j.1540-6520.2011.00451.x', '10.1111/etap.12213']\n",
            "['10.1111/j.1540-6520.2011.00451.x', '10.1108/jsbed-10-2016-0166']\n",
            "['10.1111/j.1540-6520.2011.00451.x', '10.1016/j.ejfb.2017.05.001']\n",
            "['10.1111/j.1540-6520.2011.00451.x', '10.1177/0266242617690797']\n",
            "['10.1111/j.1540-6520.2011.00451.x', '10.1515/erj-2016-0075']\n",
            "['10.1111/j.1540-6520.2011.00451.x', '10.1111/etap.12099']\n",
            "['10.1111/j.1540-6520.2011.00451.x', '10.1108/apjba-06-2018-0099']\n",
            "['10.1111/j.1540-6520.2011.00451.x', '10.1007/s11365-013-0258-3']\n",
            "['10.1111/j.1540-6520.2011.00451.x', '10.1108/ijebr-10-2012-0106']\n",
            "['10.1111/j.1540-6520.2011.00451.x', '10.4018/978-1-7998-2269-1.ch008']\n",
            "['10.1111/j.1540-6520.2011.00451.x', '10.4018/978-1-5225-8479-7.ch004']\n",
            "['10.1111/j.1540-6520.2011.00451.x', '10.1111/1467-8551.12263']\n",
            "['10.1111/j.1540-6520.2011.00451.x', '10.1177/0266242613506023']\n",
            "['10.1111/j.1540-6520.2011.00451.x', '10.1007/s10869-018-9536-y']\n",
            "['10.1111/j.1540-6520.2011.00451.x', '10.1177/0266242615613840']\n",
            "['10.1111/j.1540-6520.2011.00451.x', '10.1111/etap.12237']\n",
            "['10.1111/j.1540-6520.2011.00451.x', '10.1177/1465750316669906']\n",
            "['10.1111/j.1540-6520.2011.00451.x', '10.1007/s11187-015-9632-6']\n"
          ]
        }
      ]
    },
    {
      "cell_type": "code",
      "source": [
        "sorted_cliques = sorted(list(nx.find_cliques(G)),key=len)"
      ],
      "metadata": {
        "id": "gW2VRtC6OKfK"
      },
      "execution_count": null,
      "outputs": []
    },
    {
      "cell_type": "code",
      "source": [
        "max_clique_nodes = set()\n",
        "\n",
        "for nodelist in sorted_cliques[-4:-1]:\n",
        "    for node in nodelist:\n",
        "        max_clique_nodes.add(node)"
      ],
      "metadata": {
        "id": "h0Ww1tgyOKiI"
      },
      "execution_count": null,
      "outputs": []
    },
    {
      "cell_type": "code",
      "source": [
        "max_clique = G.subgraph(max_clique_nodes)"
      ],
      "metadata": {
        "id": "3TZ9wJjoOKkm"
      },
      "execution_count": null,
      "outputs": []
    },
    {
      "cell_type": "code",
      "source": [
        "print(nx.info(max_clique))"
      ],
      "metadata": {
        "id": "mhmynLKMOKnQ",
        "colab": {
          "base_uri": "https://localhost:8080/"
        },
        "outputId": "edd06f61-3813-4e14-b067-4a2ea6022b85"
      },
      "execution_count": null,
      "outputs": [
        {
          "output_type": "stream",
          "name": "stdout",
          "text": [
            "Graph with 4 nodes and 3 edges\n"
          ]
        }
      ]
    },
    {
      "cell_type": "code",
      "source": [
        "c=nx.second_order_centrality(G)"
      ],
      "metadata": {
        "colab": {
          "base_uri": "https://localhost:8080/",
          "height": 312
        },
        "id": "8JG_kCl3aeFl",
        "outputId": "89527929-df6c-4adb-b18c-31ec3dde7981"
      },
      "execution_count": null,
      "outputs": [
        {
          "output_type": "error",
          "ename": "NetworkXException",
          "evalue": "ignored",
          "traceback": [
            "\u001b[0;31m---------------------------------------------------------------------------\u001b[0m",
            "\u001b[0;31mNetworkXException\u001b[0m                         Traceback (most recent call last)",
            "\u001b[0;32m<ipython-input-56-1df9c125a501>\u001b[0m in \u001b[0;36m<module>\u001b[0;34m()\u001b[0m\n\u001b[0;32m----> 1\u001b[0;31m \u001b[0mc\u001b[0m\u001b[0;34m=\u001b[0m\u001b[0mnx\u001b[0m\u001b[0;34m.\u001b[0m\u001b[0msecond_order_centrality\u001b[0m\u001b[0;34m(\u001b[0m\u001b[0mG\u001b[0m\u001b[0;34m)\u001b[0m\u001b[0;34m\u001b[0m\u001b[0;34m\u001b[0m\u001b[0m\n\u001b[0m",
            "\u001b[0;32m/usr/local/lib/python3.7/dist-packages/networkx/utils/decorators.py\u001b[0m in \u001b[0;36margmap_second_order_centrality_17\u001b[0;34m(G)\u001b[0m\n\u001b[1;32m      2\u001b[0m \u001b[0;32mfrom\u001b[0m \u001b[0mos\u001b[0m\u001b[0;34m.\u001b[0m\u001b[0mpath\u001b[0m \u001b[0;32mimport\u001b[0m \u001b[0msplitext\u001b[0m\u001b[0;34m\u001b[0m\u001b[0;34m\u001b[0m\u001b[0m\n\u001b[1;32m      3\u001b[0m \u001b[0;32mfrom\u001b[0m \u001b[0mcontextlib\u001b[0m \u001b[0;32mimport\u001b[0m \u001b[0mcontextmanager\u001b[0m\u001b[0;34m\u001b[0m\u001b[0;34m\u001b[0m\u001b[0m\n\u001b[0;32m----> 4\u001b[0;31m \u001b[0;32mfrom\u001b[0m \u001b[0mpathlib\u001b[0m \u001b[0;32mimport\u001b[0m \u001b[0mPath\u001b[0m\u001b[0;34m\u001b[0m\u001b[0;34m\u001b[0m\u001b[0m\n\u001b[0m\u001b[1;32m      5\u001b[0m \u001b[0;32mimport\u001b[0m \u001b[0mwarnings\u001b[0m\u001b[0;34m\u001b[0m\u001b[0;34m\u001b[0m\u001b[0m\n\u001b[1;32m      6\u001b[0m \u001b[0;34m\u001b[0m\u001b[0m\n",
            "\u001b[0;32m/usr/local/lib/python3.7/dist-packages/networkx/algorithms/centrality/second_order.py\u001b[0m in \u001b[0;36msecond_order_centrality\u001b[0;34m(G)\u001b[0m\n\u001b[1;32m    103\u001b[0m         \u001b[0;32mraise\u001b[0m \u001b[0mnx\u001b[0m\u001b[0;34m.\u001b[0m\u001b[0mNetworkXException\u001b[0m\u001b[0;34m(\u001b[0m\u001b[0;34m\"Empty graph.\"\u001b[0m\u001b[0;34m)\u001b[0m\u001b[0;34m\u001b[0m\u001b[0;34m\u001b[0m\u001b[0m\n\u001b[1;32m    104\u001b[0m     \u001b[0;32mif\u001b[0m \u001b[0;32mnot\u001b[0m \u001b[0mnx\u001b[0m\u001b[0;34m.\u001b[0m\u001b[0mis_connected\u001b[0m\u001b[0;34m(\u001b[0m\u001b[0mG\u001b[0m\u001b[0;34m)\u001b[0m\u001b[0;34m:\u001b[0m\u001b[0;34m\u001b[0m\u001b[0;34m\u001b[0m\u001b[0m\n\u001b[0;32m--> 105\u001b[0;31m         \u001b[0;32mraise\u001b[0m \u001b[0mnx\u001b[0m\u001b[0;34m.\u001b[0m\u001b[0mNetworkXException\u001b[0m\u001b[0;34m(\u001b[0m\u001b[0;34m\"Non connected graph.\"\u001b[0m\u001b[0;34m)\u001b[0m\u001b[0;34m\u001b[0m\u001b[0;34m\u001b[0m\u001b[0m\n\u001b[0m\u001b[1;32m    106\u001b[0m     \u001b[0;32mif\u001b[0m \u001b[0many\u001b[0m\u001b[0;34m(\u001b[0m\u001b[0md\u001b[0m\u001b[0;34m.\u001b[0m\u001b[0mget\u001b[0m\u001b[0;34m(\u001b[0m\u001b[0;34m\"weight\"\u001b[0m\u001b[0;34m,\u001b[0m \u001b[0;36m0\u001b[0m\u001b[0;34m)\u001b[0m \u001b[0;34m<\u001b[0m \u001b[0;36m0\u001b[0m \u001b[0;32mfor\u001b[0m \u001b[0mu\u001b[0m\u001b[0;34m,\u001b[0m \u001b[0mv\u001b[0m\u001b[0;34m,\u001b[0m \u001b[0md\u001b[0m \u001b[0;32min\u001b[0m \u001b[0mG\u001b[0m\u001b[0;34m.\u001b[0m\u001b[0medges\u001b[0m\u001b[0;34m(\u001b[0m\u001b[0mdata\u001b[0m\u001b[0;34m=\u001b[0m\u001b[0;32mTrue\u001b[0m\u001b[0;34m)\u001b[0m\u001b[0;34m)\u001b[0m\u001b[0;34m:\u001b[0m\u001b[0;34m\u001b[0m\u001b[0;34m\u001b[0m\u001b[0m\n\u001b[1;32m    107\u001b[0m         \u001b[0;32mraise\u001b[0m \u001b[0mnx\u001b[0m\u001b[0;34m.\u001b[0m\u001b[0mNetworkXException\u001b[0m\u001b[0;34m(\u001b[0m\u001b[0;34m\"Graph has negative edge weights.\"\u001b[0m\u001b[0;34m)\u001b[0m\u001b[0;34m\u001b[0m\u001b[0;34m\u001b[0m\u001b[0m\n",
            "\u001b[0;31mNetworkXException\u001b[0m: Non connected graph."
          ]
        }
      ]
    },
    {
      "cell_type": "code",
      "source": [
        "c"
      ],
      "metadata": {
        "colab": {
          "base_uri": "https://localhost:8080/"
        },
        "id": "FiYfUssTaklU",
        "outputId": "7fc96a09-9356-4257-87bc-296e33ea2b09"
      },
      "execution_count": null,
      "outputs": [
        {
          "output_type": "execute_result",
          "data": {
            "text/plain": [
              "<generator object simple_cycles at 0x7fb746beaad0>"
            ]
          },
          "metadata": {},
          "execution_count": 57
        }
      ]
    },
    {
      "cell_type": "code",
      "source": [
        ""
      ],
      "metadata": {
        "id": "uvnskjunaxba"
      },
      "execution_count": null,
      "outputs": []
    }
  ]
}